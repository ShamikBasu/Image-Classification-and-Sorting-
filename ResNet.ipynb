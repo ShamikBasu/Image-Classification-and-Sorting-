{
 "cells": [
  {
   "cell_type": "code",
   "execution_count": null,
   "id": "960c2937",
   "metadata": {},
   "outputs": [],
   "source": [
    "from IPython.display import Image\n",
    "from IPython.display import Video\n",
    "from tensorflow.keras.applications.resnet50 import ResNet50\n",
    "from tensorflow.keras.preprocessing import image\n",
    "from tensorflow.keras.applications.resnet50 import preprocess_input, decode_predictions\n",
    "import numpy as np\n",
    "import matplotlib.pyplot as plt\n",
    "import cv2\n",
    "import glob\n",
    "dest_path_begin = 'D:\\\\Machine Learning\\\\test_images\\\\'\n",
    "model = ResNet50(weights='imagenet')\n",
    "def classify(img_path):\n",
    "    display = (Image(filename=img_path))\n",
    "    img = image.load_img(img_path, target_size=(224,224))\n",
    "    x = image.img_to_array(img)\n",
    "    x = np.expand_dims(x,axis=0)\n",
    "    x = preprocess_input(x)\n",
    "    predictions = model.predict(x)\n",
    "    displayImage(img_path)\n",
    "    return decode_predictions(predictions,top=5)[0]"
   ]
  },
  {
   "cell_type": "code",
   "execution_count": null,
   "id": "1d2579c9",
   "metadata": {},
   "outputs": [],
   "source": []
  },
  {
   "cell_type": "code",
   "execution_count": null,
   "id": "bc94df53",
   "metadata": {},
   "outputs": [],
   "source": [
    "import matplotlib.pyplot as plt\n",
    "import matplotlib.image as mpimg\n",
    "\n",
    "def displayImage(img_path):\n",
    "    img = mpimg.imread(img_path)\n",
    "    imgplot = plt.imshow(img)\n",
    "    plt.show()"
   ]
  },
  {
   "cell_type": "code",
   "execution_count": null,
   "id": "d2ebac93",
   "metadata": {},
   "outputs": [],
   "source": [
    "def predictionTable(prediction_list):\n",
    "    print(\"\\033[1m\"+\"OBJECT \\t\\t\\t\\t\\t SCORE\"+\"\\033[0m\")\n",
    "    for num,pred,score in prediction_list:\n",
    "        #score=round(score,2)\n",
    "        print(f\"{pred:{20}}{score:{30}}\")"
   ]
  },
  {
   "cell_type": "code",
   "execution_count": null,
   "id": "1c590e97",
   "metadata": {},
   "outputs": [],
   "source": [
    "import shutil\n",
    "import os\n",
    "import glob\n",
    "\n",
    "def sortImageAccordingFolder(img_path,dest_path_begin,image_category):\n",
    "    src_dir = 'D:\\\\Machine Learning\\\\test_images\\\\'\n",
    "    dst_dir = dest_path_begin+image_category+\"\\\\\"\n",
    "    if(not checkExistingDirectory(dst_dir)):\n",
    "        createDirectory(image_category)\n",
    "    image_name = getImageName(img_path)\n",
    "    for jpgfile in glob.iglob(os.path.join(src_dir, image_name)):\n",
    "        shutil.copy(jpgfile, dst_dir)"
   ]
  },
  {
   "cell_type": "code",
   "execution_count": null,
   "id": "69f85824",
   "metadata": {},
   "outputs": [],
   "source": [
    "def getImageName(img_path):\n",
    "    image_name = img_path.split(\"/\")\n",
    "    return image_name[-1]"
   ]
  },
  {
   "cell_type": "code",
   "execution_count": null,
   "id": "5d70b1c9",
   "metadata": {},
   "outputs": [],
   "source": [
    "import os\n",
    "\n",
    "def checkExistingDirectory(dest_dir):\n",
    "    return os.path.isdir(dest_dir)"
   ]
  },
  {
   "cell_type": "code",
   "execution_count": null,
   "id": "205d9095",
   "metadata": {},
   "outputs": [],
   "source": [
    "def  createDirectory(dir_name):\n",
    "    path = os.path.join(dest_path_begin,dir_name)\n",
    "    #print(\"destionation created path::::\" ,path)\n",
    "    os.mkdir(path)"
   ]
  },
  {
   "cell_type": "code",
   "execution_count": null,
   "id": "6f78132d",
   "metadata": {},
   "outputs": [],
   "source": [
    "def getAllFilenames(image_dir,file_ext):\n",
    "    file_names = []\n",
    "    files = []\n",
    "    [files.extend(glob.glob(image_dir + '*.' + e)) for e in file_ext]\n",
    "    for file_path in files:\n",
    "        file_name=file_path.split(\"\\\\\")\n",
    "        file_names.append(file_name[1])\n",
    "    return file_names"
   ]
  },
  {
   "cell_type": "code",
   "execution_count": null,
   "id": "c018571d",
   "metadata": {},
   "outputs": [],
   "source": [
    "def createSourcePath(image_dir,file_name):\n",
    "    sourcePath = image_dir +\"/\"+file_name\n",
    "    return sourcePath"
   ]
  },
  {
   "cell_type": "code",
   "execution_count": null,
   "id": "359a54fa",
   "metadata": {},
   "outputs": [],
   "source": [
    "def startModel(img_dir):\n",
    "    file_names = getAllFilenames(img_dir,['png', 'jpeg', 'jpg']) #Add image extension\n",
    "    for file_name in file_names:\n",
    "        img_path = createSourcePath(img_dir,file_name)\n",
    "        prediction_list=classify(img_path)\n",
    "        predictionTable(prediction_list)\n",
    "        sortImageAccordingFolder(img_path,dest_path_begin,prediction_list[0][1])"
   ]
  },
  {
   "cell_type": "code",
   "execution_count": null,
   "id": "d6dc2bf3",
   "metadata": {},
   "outputs": [],
   "source": [
    "#for sort\n",
    "startModel('D:/Machine Learning/test_images/') "
   ]
  },
  {
   "cell_type": "code",
   "execution_count": null,
   "id": "15da9b2d",
   "metadata": {},
   "outputs": [],
   "source": [
    "#For classifying and sorting single image\n",
    "img_path ='D:/Machine Learning/test_images/13.jpeg'\n",
    "prediction_list=classify(img_path)\n",
    "predictionTable(prediction_list)\n",
    "sortImageAccordingFolder(img_path,dest_path_begin,prediction_list[0][1])"
   ]
  }
 ],
 "metadata": {
  "kernelspec": {
   "display_name": "Python 3",
   "language": "python",
   "name": "python3"
  },
  "language_info": {
   "codemirror_mode": {
    "name": "ipython",
    "version": 3
   },
   "file_extension": ".py",
   "mimetype": "text/x-python",
   "name": "python",
   "nbconvert_exporter": "python",
   "pygments_lexer": "ipython3",
   "version": "3.8.8"
  }
 },
 "nbformat": 4,
 "nbformat_minor": 5
}
